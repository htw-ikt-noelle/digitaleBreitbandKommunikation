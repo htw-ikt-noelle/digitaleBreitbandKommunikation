{
 "cells": [
  {
   "cell_type": "markdown",
   "id": "f9e2e828-5009-4ed2-b0dc-7809ecbf0653",
   "metadata": {},
   "source": [
    "# Digitale Breitbandkommunikation\n",
    "\n",
    "## Einleitung / Wiederholung\n",
    " 1. Modulation\n",
    " 2. cos -> exp als Animation\n",
    "\n",
    "\n",
    "## Funkkanal\n",
    "\n",
    "1. komplexe Einhüllende / Modulation\n",
    "1. [Mehrwegeausbreitung](multipath_fading.ipynb)"
   ]
  }
 ],
 "metadata": {
  "kernelspec": {
   "display_name": "Python 3 (ipykernel)",
   "language": "python",
   "name": "python3"
  },
  "language_info": {
   "codemirror_mode": {
    "name": "ipython",
    "version": 3
   },
   "file_extension": ".py",
   "mimetype": "text/x-python",
   "name": "python",
   "nbconvert_exporter": "python",
   "pygments_lexer": "ipython3",
   "version": "3.11.4"
  }
 },
 "nbformat": 4,
 "nbformat_minor": 5
}
